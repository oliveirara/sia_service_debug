{
 "cells": [
  {
   "cell_type": "code",
   "execution_count": 1,
   "id": "16d82ff5-e1ed-4cf1-ab44-08873434d045",
   "metadata": {},
   "outputs": [],
   "source": [
    "import numpy as np\n",
    "\n",
    "\n",
    "from astropy.coordinates import Angle\n",
    "from astropy.io import fits\n",
    "from astropy import units as u\n",
    "from astropy.coordinates import SkyCoord\n",
    "from astropy import wcs\n",
    "from pyvo.dal import sia"
   ]
  },
  {
   "cell_type": "code",
   "execution_count": 2,
   "id": "f433d657-c678-4cf7-99f4-c4fbe9b3d22a",
   "metadata": {},
   "outputs": [
    {
     "name": "stdout",
     "output_type": "stream",
     "text": [
      "https://datalab.noirlab.edu/svc/cutout?col=des_dr2&siaRef=DES0455-5040_r4939p01_g_nobkg.fits.fz&extn=1&POS=73.4708333,-50.3763611&SIZE=0.06666666666666667,0.06666666666666667\n",
      "https://datalab.noirlab.edu/svc/cutout?col=des_dr2&siaRef=DES0045-0124_r4907p01_g_nobkg.fits.fz&extn=1&POS=11.6420833,-1.5823889&SIZE=0.06666666666666667,0.06666666666666667\n"
     ]
    }
   ],
   "source": [
    "DEF_ACCESS_URL = \"https://datalab.noirlab.edu/sia/des_dr2\" # DES SIA service URL\n",
    "svc = sia.SIAService(DEF_ACCESS_URL)\n",
    "\n",
    "\n",
    "ra, dec = 73.4708333, -50.3763611\n",
    "\n",
    "\n",
    "# 4amin\n",
    "imgTable = svc.search((ra,dec), (Angle(4 * u.arcmin), Angle(4 * u.arcmin)), intersect='CENTER', verbosity=0).to_table()\n",
    "onlyImage = imgTable[(imgTable['prodtype']=='image') & \\\n",
    "                     ((imgTable['obs_bandpass'] == 'g DECam SDSS c0001 4720.0 1520.0'))].to_pandas()\n",
    "print(onlyImage['access_url'][1])\n",
    "url_1 = onlyImage['access_url'][1]\n",
    "\n",
    "\n",
    "ra, dec = 11.6420833, -1.5823889\n",
    "\n",
    "\n",
    "# 4amin\n",
    "imgTable = svc.search((ra,dec), (Angle(4 * u.arcmin), Angle(4 * u.arcmin)), intersect='CENTER', verbosity=0).to_table()\n",
    "onlyImage = imgTable[(imgTable['prodtype']=='image') & \\\n",
    "                     ((imgTable['obs_bandpass'] == 'g DECam SDSS c0001 4720.0 1520.0'))].to_pandas()\n",
    "print(onlyImage['access_url'][1])\n",
    "url_2 = onlyImage['access_url'][1]"
   ]
  },
  {
   "cell_type": "code",
   "execution_count": 3,
   "id": "92809745-593c-4d67-93ea-eab6cf6fd054",
   "metadata": {},
   "outputs": [
    {
     "data": {
      "text/plain": [
       "('cutout_2.fits', <http.client.HTTPMessage at 0x7ffaec783190>)"
      ]
     },
     "execution_count": 3,
     "metadata": {},
     "output_type": "execute_result"
    }
   ],
   "source": [
    "from urllib.request import urlretrieve\n",
    "\n",
    "urlretrieve(url_1, \"cutout_1.fits\")\n",
    "urlretrieve(url_2, \"cutout_2.fits\")"
   ]
  },
  {
   "cell_type": "code",
   "execution_count": 4,
   "id": "43bdc7ae-3e6a-4e5d-8e41-55b5206f2df1",
   "metadata": {},
   "outputs": [],
   "source": [
    "def image_limits(hdr):\n",
    "    \"\"\"\n",
    "    Function to get the image limites in wcs\n",
    "    Input\n",
    "     - hdr pyfits_hdr : image hdr\n",
    "    Output\n",
    "     -\n",
    "    #FIXME - finish documentation\n",
    "    \"\"\"\n",
    "    im_wcs = wcs.WCS(hdr, naxis=2)\n",
    "\n",
    "    pixcrd = np.array([[0,0]], np.float_)\n",
    "\n",
    "    coor1 = im_wcs.wcs_pix2world( [[0,0]], 1)\n",
    "    coor2 = im_wcs.wcs_pix2world( [[hdr[\"NAXIS1\"], hdr[\"NAXIS2\"]]], 1)\n",
    "\n",
    "    coor3 = im_wcs.wcs_pix2world( [[0, hdr[\"NAXIS2\"]]], 1)\n",
    "    coor4 = im_wcs.wcs_pix2world( [[hdr[\"NAXIS1\"], 0]], 1)\n",
    "\n",
    "    c0min = min([coor1[0][0], coor2[0][0], coor3[0][0], coor4[0][0]])\n",
    "    c0max = max([coor1[0][0], coor2[0][0], coor3[0][0], coor4[0][0]])\n",
    "\n",
    "    c1min = min([coor1[0][1], coor2[0][1], coor3[0][1], coor4[0][1]])\n",
    "    c1max = max([coor1[0][1], coor2[0][1], coor3[0][1], coor4[0][1]])\n",
    "\n",
    "    return [c0min, c0max], [c1min, c1max]"
   ]
  },
  {
   "cell_type": "code",
   "execution_count": 5,
   "id": "a982a39c-0ebf-42c2-a089-94748872242e",
   "metadata": {},
   "outputs": [],
   "source": [
    "def get_cutout_distances(file):\n",
    "\n",
    "    hdr = fits.open(file)[0].header\n",
    "\n",
    "    ras, decs = image_limits(hdr)\n",
    "    ra_min, ra_max = ras\n",
    "    dec_min, dec_max = decs\n",
    "\n",
    "    c1_dec = SkyCoord(ra_min*u.deg, dec_min*u.deg, frame='icrs')\n",
    "    c2_dec = SkyCoord(ra_min*u.deg, dec_max*u.deg, frame='icrs')\n",
    "\n",
    "    c1_rad = SkyCoord(ra_min*u.deg, dec_min*u.deg, frame='icrs')\n",
    "    c2_rad = SkyCoord(ra_max*u.deg, dec_min*u.deg, frame='icrs')\n",
    "\n",
    "    dec_distance = c1_dec.separation(c2_dec).arcmin\n",
    "    rad_distance = c1_rad.separation(c2_rad).arcmin\n",
    "    \n",
    "    return [file, dec_distance, rad_distance]"
   ]
  },
  {
   "cell_type": "code",
   "execution_count": 6,
   "id": "b8a5399b-1801-4368-9742-62e554e85b25",
   "metadata": {},
   "outputs": [
    {
     "data": {
      "text/plain": [
       "['cutout_1.fits', 2.5497095555969205, 2.5486326653867692]"
      ]
     },
     "execution_count": 6,
     "metadata": {},
     "output_type": "execute_result"
    }
   ],
   "source": [
    "get_cutout_distances('cutout_1.fits')"
   ]
  },
  {
   "cell_type": "code",
   "execution_count": 7,
   "id": "80d7cfbf-5d80-46d5-a9da-45aad6da50a1",
   "metadata": {},
   "outputs": [
    {
     "data": {
      "text/plain": [
       "['cutout_2.fits', 4.002370649145821, 4.002240081910709]"
      ]
     },
     "execution_count": 7,
     "metadata": {},
     "output_type": "execute_result"
    }
   ],
   "source": [
    "get_cutout_distances('cutout_2.fits')"
   ]
  }
 ],
 "metadata": {
  "kernelspec": {
   "display_name": "Python 3 (ipykernel)",
   "language": "python",
   "name": "python3"
  },
  "language_info": {
   "codemirror_mode": {
    "name": "ipython",
    "version": 3
   },
   "file_extension": ".py",
   "mimetype": "text/x-python",
   "name": "python",
   "nbconvert_exporter": "python",
   "pygments_lexer": "ipython3",
   "version": "3.7.12"
  }
 },
 "nbformat": 4,
 "nbformat_minor": 5
}
